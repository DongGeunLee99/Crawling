{
    "cells": [
        {
            "cell_type": "code",
            "execution_count": 64,
            "metadata": {},
            "outputs": [],
            "source": [
                "import time\n",
                "import pandas as pd\n",
                "import requests as req\n",
                "from bs4 import BeautifulSoup as bs\n",
                "from selenium import webdriver as wb\n",
                "from IPython.display import display, HTML\n",
                "from selenium.webdriver.common.by import By\n",
                "from selenium.webdriver.common.keys import Keys \n",
                "from selenium.webdriver.chrome.service import Service\n",
                "from webdriver_manager.chrome import ChromeDriverManager\n",
                "from selenium.webdriver.common.action_chains import ActionChains"
            ]
        },
        {
            "cell_type": "code",
            "execution_count": 65,
            "metadata": {},
            "outputs": [],
            "source": [
                "dong = '화정동'\n",
                "url = \"https://new.land.naver.com/offices?ms=35.1433487,126.8801591,16&a=SG:SMS:GJCG:APTHGJ:GM:TJ&b=B2&e=RETAIL\"\n",
                "gcs = url[url.find(\"3\"):url.find(\",16\")]"
            ]
        },
        {
            "cell_type": "code",
            "execution_count": 66,
            "metadata": {},
            "outputs": [],
            "source": [
                "s = Service(ChromeDriverManager().install())\n",
                "driver = wb.Chrome(service=s)\n",
                "driver.maximize_window()\n",
                "driver.get(url)\n",
                "driver.execute_script(\"window.open('https://www.movable-type.co.uk/scripts/latlong-utm-mgrs.html');\")"
            ]
        },
        {
            "cell_type": "code",
            "execution_count": 67,
            "metadata": {},
            "outputs": [],
            "source": [
                "driver.switch_to.window(driver.window_handles[1])\n",
                "driver.find_element(By.CSS_SELECTOR, \"input#deg-format-d\").click()\n",
                "driver.find_element(By.CSS_SELECTOR, \"input#precision-mm\").click()"
            ]
        },
        {
            "cell_type": "code",
            "execution_count": 68,
            "metadata": {},
            "outputs": [],
            "source": [
                "gcs_input = driver.find_element(By.CSS_SELECTOR, \"input#latlon\")\n",
                "gcs_input.clear()\n",
                "gcs_input.send_keys(gcs)\n",
                "gcs_input.send_keys(Keys.RETURN)\n",
                "time.sleep(0.1)\n",
                "utm_output = driver.find_element(By.CSS_SELECTOR, \"input#utm-coord\").get_attribute(\"value\").split(\" \")"
            ]
        },
        {
            "cell_type": "code",
            "execution_count": 69,
            "metadata": {},
            "outputs": [],
            "source": [
                "driver.switch_to.window(driver.window_handles[0])\n",
                "time.sleep(3)\n",
                "\n",
                "columns = ['동', '위도', '경도', '상가종류', '월세', '평수', '층수']\n",
                "df = pd.DataFrame(columns=columns)\n",
                "\n",
                "pin = driver.find_elements(By.CSS_SELECTOR, \"a.map_cluster--mix:not(.is-outside)\")"
            ]
        },
        {
            "cell_type": "code",
            "execution_count": 70,
            "metadata": {},
            "outputs": [],
            "source": [
                "driver.refresh()"
            ]
        },
        {
            "cell_type": "code",
            "execution_count": 71,
            "metadata": {},
            "outputs": [
                {
                    "name": "stdout",
                    "output_type": "stream",
                    "text": [
                        "1\n",
                        "타깃 좌표 : x : 826.875, y : 340.291\n",
                        "52 N 306243.355 3891051.281076923\n",
                        "2\n",
                        "타깃 좌표 : x : 734.61, y : 223.746\n",
                        "52 N 306065.9223076923 3891275.406076923\n"
                    ]
                }
            ],
            "source": [
                "# for i in range(len(pin)):\n",
                "for i in range(2):\n",
                "    while 1:\n",
                "        map_element = driver.find_element(By.CSS_SELECTOR, \"div#map.map_panel\")\n",
                "        my_x = map_element.size['width'] / 2 + driver.find_element(By.CSS_SELECTOR, \"div#listContents1\").size['width']/2\n",
                "        # my_x = map_element.size['width'] / 2\n",
                "        my_y = map_element.size['height'] / 2\n",
                "\n",
                "        time.sleep(1)\n",
                "        pin = driver.find_elements(By.CSS_SELECTOR, \"a.map_cluster--mix:not(.is-outside)\")\n",
                "        target_x = float(pin[i].get_attribute(\"style\").split(\" \")[-1].replace(\"px;\", \"\"))\n",
                "        target_y = float(pin[i].get_attribute(\"style\").split(\" \")[-3].replace(\"px;\", \"\"))\n",
                "        if abs(target_x) > 10000 or abs(target_y) > 10000:\n",
                "            driver.refresh()\n",
                "            time.sleep(3)\n",
                "        else :\n",
                "            break\n",
                "\n",
                "    if target_x < 380 or target_y < -30:\n",
                "        continue\n",
                "\n",
                "    gap_x = target_x - my_x\n",
                "    gap_y = target_y - my_y\n",
                "\n",
                "    distance_x = gap_x * 100 / 52\n",
                "    distance_y = gap_y * 100 / 52\n",
                "\n",
                "    utm_x = float(utm_output[2]) + distance_x\n",
                "    utm_y = float(utm_output[3]) - distance_y\n",
                "    \n",
                "    print(i+1)\n",
                "    print(f\"타깃 좌표 : x : {target_x}, y : {target_y}\")\n",
                "    print(\"52 N\",utm_x, utm_y)\n",
                "\n",
                "    pin[i].click()\n",
                "\n",
                "    try:\n",
                "        body = driver.find_element(By.CSS_SELECTOR, 'div.item_list.item_list--article')\n",
                "        while True:\n",
                "            body.send_keys(Keys.END)\n",
                "\n",
                "            time.sleep(1)\n",
                "            loader = driver.find_element(By.CSS_SELECTOR, 'div.loader')\n",
                "    except:\n",
                "        pass\n",
                "    \n",
                "    data = driver.find_elements(By.CSS_SELECTOR, \"div.item\")\n",
                "\n",
                "    for j in range(len(data)):\n",
                "        text_list = data[j].text.strip().split('\\n')\n",
                "\n",
                "        idx = 1 if text_list[0] == \"공인중개사협회매물\" else 0  # 조건에 따라 인덱스 설정\n",
                "\n",
                "        split_values = text_list[idx + 2].split(', ')  # 공통적으로 필요한 값\n",
                "\n",
                "        df.loc[i] = [\n",
                "            dong,\n",
                "            utm_x,\n",
                "            utm_y,\n",
                "            text_list[idx],\n",
                "            text_list[idx + 1],\n",
                "            split_values[0],\n",
                "            split_values[1]\n",
                "        ]\n",
                "\n",
                "    time.sleep(2)\n",
                "    pin[i].click()\n",
                "\n",
                "\n",
                "\n",
                "time.sleep(1)\n",
                "driver.switch_to.window(driver.window_handles[1])\n",
                "\n",
                "for k in range(df.shape[0]):\n",
                "    # UTM 좌표 입력 필드 가져오기\n",
                "    utm_input = driver.find_element(By.CSS_SELECTOR, \"input#utm-coord\")\n",
                "\n",
                "    # 기존 값 삭제 후 새로운 UTM 좌표 입력\n",
                "    utm_input.clear()\n",
                "    utm_input.send_keys(\"52 N \" + str(df.loc[k, '위도']) + ' ' + str(df.loc[k, '경도']))\n",
                "    utm_input.send_keys(Keys.RETURN)\n",
                "    time.sleep(0.1)\n",
                "\n",
                "    # 변환된 위도/경도 가져오기\n",
                "    latlon_value = driver.find_element(By.CSS_SELECTOR, \"input#latlon\").get_attribute(\"value\")\n",
                "\n",
                "    latlon_value.find(\", \")\n",
                "    lat, long = latlon_value.split(\", \")\n",
                "    df.loc[k, '위도'] = float(lat[:-3])\n",
                "    df.loc[k, '경도'] = float(long[:-3])\n",
                "\n",
                "df.to_csv(f\"./data/03_부동산/{dong}_부동산.csv\", encoding='utf-8-sig', index=False)\n",
                "df[['위도', '경도']].to_csv(f\"./data/04_부동산_test/{dong}_test.csv\", encoding='utf-8-sig', index=False, header=False)\n",
                "driver.switch_to.window(driver.window_handles[0])\n",
                "\n"
            ]
        },
        {
            "cell_type": "code",
            "execution_count": null,
            "metadata": {},
            "outputs": [],
            "source": [
                "driver.switch_to.window(driver.window_handles[0])"
            ]
        },
        {
            "cell_type": "code",
            "execution_count": null,
            "metadata": {},
            "outputs": [],
            "source": []
        },
        {
            "cell_type": "code",
            "execution_count": null,
            "metadata": {},
            "outputs": [],
            "source": []
        },
        {
            "cell_type": "code",
            "execution_count": null,
            "metadata": {},
            "outputs": [],
            "source": []
        }
    ],
    "metadata": {
        "kernelspec": {
            "display_name": "base",
            "language": "python",
            "name": "python3"
        },
        "language_info": {
            "codemirror_mode": {
                "name": "ipython",
                "version": 3
            },
            "file_extension": ".py",
            "mimetype": "text/x-python",
            "name": "python",
            "nbconvert_exporter": "python",
            "pygments_lexer": "ipython3",
            "version": "3.12.7"
        }
    },
    "nbformat": 4,
    "nbformat_minor": 4
}
