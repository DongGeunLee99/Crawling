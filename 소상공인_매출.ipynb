{
    "cells": [
        {
            "cell_type": "code",
            "execution_count": 1,
            "metadata": {},
            "outputs": [],
            "source": [
                "import json\n",
                "import time\n",
                "import requests\n",
                "import pandas as pd\n",
                "from bs4 import BeautifulSoup as bs\n",
                "from selenium import webdriver as wb\n",
                "from selenium.webdriver.common.by import By\n",
                "from selenium.webdriver.common.keys import Keys \n",
                "from selenium.webdriver.chrome.service import Service\n",
                "from webdriver_manager.chrome import ChromeDriverManager"
            ]
        },
        {
            "cell_type": "code",
            "execution_count": null,
            "metadata": {},
            "outputs": [],
            "source": [
                "dong1 = ['광천동', '유덕동', '양동', '양3동', '농성1동', '농성2동']\n",
                "dong2 = ['치평동', '상무1동','상무2동', '화정1동','화정2동','화정3동']\n",
                "dong3 = ['화정4동','서창동','금호1동','금호2동','풍암동','동천동']\n",
                "bigcode = [\"G2\", \"I2\", \"S2\", \"R1\", \"P1\", \"L1\", \"I1\", \"M1\", \"Q1\", \"N1\"]"
            ]
        },
        {
            "cell_type": "code",
            "execution_count": null,
            "metadata": {},
            "outputs": [],
            "source": [
                "category_df = pd.read_csv(\"업종.csv\", encoding='utf-8-sig')"
            ]
        },
        {
            "cell_type": "code",
            "execution_count": 2,
            "metadata": {},
            "outputs": [],
            "source": [
                "columns = ['구', '업종코드', '업종이름', '검색업종', '23.12', '24.01', '24.02', '24.03', '24.04', \n",
                "           '24.05', '24.06', '24.07', '24.08', '24.09', '24.10', '24.11', '24.12']\n",
                "delivery_sales_df  = pd.DataFrame(columns=columns)\n",
                "store_sales_df  = pd.DataFrame(columns=columns)"
            ]
        },
        {
            "cell_type": "code",
            "execution_count": 3,
            "metadata": {},
            "outputs": [],
            "source": [
                "store_sales_df.to_csv(f\"../data/test_상가_매출.csv\", encoding='utf-8-sig', index=False)"
            ]
        },
        {
            "cell_type": "code",
            "execution_count": null,
            "metadata": {},
            "outputs": [],
            "source": [
                "s = Service(ChromeDriverManager().install())\n",
                "driver = wb.Chrome(service=s)\n",
                "driver.maximize_window()\n",
                "driver.get('https://bigdata.sbiz.or.kr/gis/?type=detail&rptpType=gisDetail&lat=35.1287735&lng=126.8532396')"
            ]
        },
        {
            "cell_type": "code",
            "execution_count": null,
            "metadata": {},
            "outputs": [],
            "source": [
                "#################################### 반복할 동 선택\n",
                "seogu = dong1\n",
                "####################################"
            ]
        },
        {
            "cell_type": "code",
            "execution_count": null,
            "metadata": {},
            "outputs": [],
            "source": [
                "error_cate = []\n",
                "\n",
                "for dong in seogu: #### 구 반복 ####\n",
                "    while 1:\n",
                "        time.sleep(1)\n",
                "        search_box = driver.find_element(By.ID, \"searchAddress\")  # 검색창\n",
                "\n",
                "        search_box.send_keys(Keys.CONTROL + \"a\")  # 동 입력창 초기화\n",
                "        time.sleep(0.5)\n",
                "        search_box.send_keys(Keys.DELETE)\n",
                "        time.sleep(1)\n",
                "\n",
                "        search_box.send_keys(f\"광주 서구 {dong}\")  # 입력창에 원하는 동 입력\n",
                "        search_box.send_keys(Keys.RETURN)\n",
                "        time.sleep(1)\n",
                "\n",
                "        button = driver.find_element(By.CSS_SELECTOR, \"ul#admListAddress>li>button\") # 검색\n",
                "        \n",
                "        if button.text == f\"광주 서구 {dong}\":\n",
                "            button.click()\n",
                "            break                               # while 나가기 -> 동 검색 끝\n",
                "        else:\n",
                "            print(\"동 찾기 에러\")\n",
                "            time.sleep(1)\n",
                "\n",
                "    for i in range(len(category_df)):           #### 세부업종 구간 ####\n",
                "        time.sleep(1)\n",
                "        Upjong = driver.find_element(By.ID, \"selectedUpjong\") # 업종 입력창\n",
                "\n",
                "        Upjong.send_keys(Keys.CONTROL + \"a\")  # 업종 입력창 초기화\n",
                "        Upjong.send_keys(Keys.DELETE)\n",
                "        time.sleep(1)\n",
                "\n",
                "        up_name = category_df[\"업종이름\"].iloc[i] # 입력할 업종 불러오기\n",
                "        up_code = category_df[\"업종코드\"].iloc[i]\n",
                "\n",
                "        Upjong.send_keys(\"> \" + up_name)  # 입력창에 업종 검색\n",
                "        Upjong.send_keys(Keys.RETURN)\n",
                "        time.sleep(1)\n",
                "\n",
                "        search = driver.find_elements(By.CSS_SELECTOR, \"ul#tpbizSearchListUl>li>button\")# 연관 검색 클릭\n",
                "        for j in range(len(search)):\n",
                "            if search[j].text.find(up_name) != -1:\n",
                "                button = search[j]\n",
                "                break\n",
                "        button.click()\n",
                "        time.sleep(1)\n",
                "\n",
                "        button = driver.find_element(By.ID, \"analysisBtn\")  # 분석하기 버튼 클릭\n",
                "        button.click()\n",
                "        time.sleep(8)\n",
                "\n",
                "        td_name= driver.find_elements(By.CSS_SELECTOR,'div.boxArea>div.summary>dl') # 상세 페이지에 있는 업종 명 가져오기\n",
                "        for k in range(len(td_name)):                                               #    (제대로 가져왔는지 확인을 위해)\n",
                "            if td_name[k].text.find(up_name) != -1:\n",
                "                td_name = td_name[k].text\n",
                "\n",
                "        # 상가 매출 데이터 가져오기\n",
                "        tr = driver.find_elements(By.CSS_SELECTOR, \"div.boxArea.type4.space>div.tableArea>div.scrollX>table>tbody>tr\") # 상세 보고서 테이블들\n",
                "        try:\n",
                "            for td in tr: # 매출 테이블 찾기\n",
                "                if td.text.find('분석영역 매출') != -1:\n",
                "                    store_sales_data = td.text.split(\" \")[2:] # 상가 매출 데이터 추가작업\n",
                "                    store_sales_df.loc[i] = [dong, up_code, up_name, td_name] + store_sales_data # 최종 데이터 DF에 추가\n",
                "                    break\n",
                "        except:\n",
                "            error_cate.append(td_name) # 매출 테이블을 찾지 못했을 경울\n",
                "\n",
                "        # 배달 매출 데이터 가져오기\n",
                "        try :                                                            # 배달 매출 txt 바로 리스트로 바꿔 넣기\n",
                "            delivery_sales_data = driver.find_element(By.CSS_SELECTOR, \"tr#genderAllSum\").text.split(\" \")[2:]\n",
                "            delivery_sales_df.loc[i] = [dong, up_code, up_name, td_name] + delivery_sales_data # 최종 데이터 DF에 추가\n",
                "        except:\n",
                "            pass # 배달 매출 정보가 없을 경우 배달을 하지 않는 업종이므로 pass\n",
                "\n",
                "        # 상세 분석 나가기\n",
                "        try:\n",
                "            close = driver.find_element(By.CSS_SELECTOR, \"section#reportDiv>div.reportInner>button.close\")\n",
                "            close.click()\n",
                "        except:\n",
                "            time.sleep(3)\n",
                "            close = driver.find_element(By.CSS_SELECTOR, \"section#reportDiv>div.reportInner>button.close\")\n",
                "            close.click()\n",
                "\n",
                "        print(f\"{dong}, 진행 횟수: {i + 1}, 남은 횟수: {len(category_df) - (i + 1)}\")\n",
                "\n",
                "    ## 저장 후 DF초기화\n",
                "    store_sales_df.to_csv(f\"../data/01_상가/{dong}_상가_매출.csv\", encoding='utf-8-sig', index=False)\n",
                "    delivery_sales_df.to_csv(f\"../data/02_배달/{dong}_배달_매출.csv\", encoding='utf-8-sig', index=False)\n",
                "    store_sales_df = pd.DataFrame(columns=columns)\n",
                "    delivery_sales_df = pd.DataFrame(columns=columns)\n",
                "    \n"
            ]
        },
        {
            "cell_type": "code",
            "execution_count": null,
            "metadata": {},
            "outputs": [],
            "source": [
                "close = driver.find_element(By.CSS_SELECTOR, \"section#reportDiv>div.reportInner>button.close\")\n",
                "close.click()"
            ]
        },
        {
            "cell_type": "markdown",
            "metadata": {},
            "source": [
                "API를 이용해서 상가 분류를 중->소분류로 구분"
            ]
        },
        {
            "cell_type": "code",
            "execution_count": null,
            "metadata": {},
            "outputs": [],
            "source": [
                "# Key = ''\n",
                "# small_name = []\n",
                "# small_code = []\n",
                "\n",
                "# for i in bigcode:\n",
                "#     middleUpjongList = f'http://apis.data.go.kr/B553077/api/open/sdsc2/middleUpjongList?serviceKey={Key}&indsLclsCd={i}&type=json'\n",
                "#     middle_json = requests.get(middleUpjongList)\n",
                "#     json_ob_1 = json.loads(middle_json.text)\n",
                "#     middle_body = json_ob_1['body']['items']\n",
                "\n",
                "#     for j in middle_body:\n",
                "#         smallUpjongList = f'http://apis.data.go.kr/B553077/api/open/sdsc2/smallUpjongList?serviceKey={Key}&indsLclsCd={i}&indsMclsCd={j.get('indsMclsCd')}&type=json'\n",
                "#         json_ob_2 = json.loads(requests.get(smallUpjongList).text)\n",
                "#         small_body = json_ob_2['body']['items']\n",
                "#         for k in small_body:\n",
                "#             small_name.append(k.get('indsSclsNm'))\n",
                "#             small_code.append(k.get('indsSclsCd'))\n",
                "            \n",
                "# print(\"업종코드 갯수 : {}\".format(len(small_code)))"
            ]
        },
        {
            "cell_type": "markdown",
            "metadata": {},
            "source": [
                "df를 불러와서 중복이 있는지 확인"
            ]
        },
        {
            "cell_type": "code",
            "execution_count": null,
            "metadata": {},
            "outputs": [],
            "source": [
                "# df = pd.read_csv(\"농성1동_상가_매출.csv\", encoding='utf-8-sig')\n",
                "# err = []\n",
                "# for i in range(len(df)):\n",
                "#     if df.loc[i, '업종이름'] != df.loc[i, '검색업종'].split('> ')[-1]:\n",
                "#         print(df.loc[i, '업종이름'])\n",
                "#         err.append(df.loc[i, '업종이름'])"
            ]
        },
        {
            "cell_type": "markdown",
            "metadata": {},
            "source": [
                "트러블 슈팅\n",
                "\n",
                "소분류 업종을 입력했을 때 중복된 이름을 가진 다른 업종을 선택하게 되는 경우가 있었다 -> \"업종이름\" 에서 \"> 업종이름\" 으로 변경해서 수정"
            ]
        }
    ],
    "metadata": {
        "kernelspec": {
            "display_name": "base",
            "language": "python",
            "name": "python3"
        },
        "language_info": {
            "codemirror_mode": {
                "name": "ipython",
                "version": 3
            },
            "file_extension": ".py",
            "mimetype": "text/x-python",
            "name": "python",
            "nbconvert_exporter": "python",
            "pygments_lexer": "ipython3",
            "version": "3.12.7"
        }
    },
    "nbformat": 4,
    "nbformat_minor": 4
}
